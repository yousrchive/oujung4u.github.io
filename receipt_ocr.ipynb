{
 "cells": [
  {
   "cell_type": "code",
   "execution_count": 1,
   "metadata": {},
   "outputs": [
    {
     "name": "stdout",
     "output_type": "stream",
     "text": [
      "Requirement already satisfied: easyocr in c:\\users\\playdata\\appdata\\local\\programs\\python\\python311\\lib\\site-packages (1.7.1)\n",
      "Requirement already satisfied: torch in c:\\users\\playdata\\appdata\\local\\programs\\python\\python311\\lib\\site-packages (from easyocr) (2.1.1)\n",
      "Requirement already satisfied: torchvision>=0.5 in c:\\users\\playdata\\appdata\\local\\programs\\python\\python311\\lib\\site-packages (from easyocr) (0.16.1)\n",
      "Requirement already satisfied: opencv-python-headless in c:\\users\\playdata\\appdata\\local\\programs\\python\\python311\\lib\\site-packages (from easyocr) (4.9.0.80)\n",
      "Requirement already satisfied: scipy in c:\\users\\playdata\\appdata\\local\\programs\\python\\python311\\lib\\site-packages (from easyocr) (1.11.3)\n",
      "Requirement already satisfied: numpy in c:\\users\\playdata\\appdata\\local\\programs\\python\\python311\\lib\\site-packages (from easyocr) (1.26.0)\n",
      "Requirement already satisfied: Pillow in c:\\users\\playdata\\appdata\\local\\programs\\python\\python311\\lib\\site-packages (from easyocr) (10.0.1)\n",
      "Requirement already satisfied: scikit-image in c:\\users\\playdata\\appdata\\local\\programs\\python\\python311\\lib\\site-packages (from easyocr) (0.22.0)\n",
      "Requirement already satisfied: python-bidi in c:\\users\\playdata\\appdata\\local\\programs\\python\\python311\\lib\\site-packages (from easyocr) (0.4.2)\n",
      "Requirement already satisfied: PyYAML in c:\\users\\playdata\\appdata\\local\\programs\\python\\python311\\lib\\site-packages (from easyocr) (6.0.1)\n",
      "Requirement already satisfied: Shapely in c:\\users\\playdata\\appdata\\local\\programs\\python\\python311\\lib\\site-packages (from easyocr) (2.0.2)\n",
      "Requirement already satisfied: pyclipper in c:\\users\\playdata\\appdata\\local\\programs\\python\\python311\\lib\\site-packages (from easyocr) (1.3.0.post5)\n",
      "Requirement already satisfied: ninja in c:\\users\\playdata\\appdata\\local\\programs\\python\\python311\\lib\\site-packages (from easyocr) (1.11.1.1)\n",
      "Requirement already satisfied: requests in c:\\users\\playdata\\appdata\\local\\programs\\python\\python311\\lib\\site-packages (from torchvision>=0.5->easyocr) (2.31.0)\n",
      "Requirement already satisfied: filelock in c:\\users\\playdata\\appdata\\local\\programs\\python\\python311\\lib\\site-packages (from torch->easyocr) (3.13.1)\n",
      "Requirement already satisfied: typing-extensions in c:\\users\\playdata\\appdata\\local\\programs\\python\\python311\\lib\\site-packages (from torch->easyocr) (4.9.0)\n",
      "Requirement already satisfied: sympy in c:\\users\\playdata\\appdata\\local\\programs\\python\\python311\\lib\\site-packages (from torch->easyocr) (1.12)\n",
      "Requirement already satisfied: networkx in c:\\users\\playdata\\appdata\\local\\programs\\python\\python311\\lib\\site-packages (from torch->easyocr) (3.2.1)\n",
      "Requirement already satisfied: jinja2 in c:\\users\\playdata\\appdata\\local\\programs\\python\\python311\\lib\\site-packages (from torch->easyocr) (3.1.2)\n",
      "Requirement already satisfied: fsspec in c:\\users\\playdata\\appdata\\local\\programs\\python\\python311\\lib\\site-packages (from torch->easyocr) (2023.12.2)\n",
      "Requirement already satisfied: six in c:\\users\\playdata\\appdata\\roaming\\python\\python311\\site-packages (from python-bidi->easyocr) (1.16.0)\n",
      "Requirement already satisfied: imageio>=2.27 in c:\\users\\playdata\\appdata\\local\\programs\\python\\python311\\lib\\site-packages (from scikit-image->easyocr) (2.33.1)\n",
      "Requirement already satisfied: tifffile>=2022.8.12 in c:\\users\\playdata\\appdata\\local\\programs\\python\\python311\\lib\\site-packages (from scikit-image->easyocr) (2023.12.9)\n",
      "Requirement already satisfied: packaging>=21 in c:\\users\\playdata\\appdata\\roaming\\python\\python311\\site-packages (from scikit-image->easyocr) (23.2)\n",
      "Requirement already satisfied: lazy_loader>=0.3 in c:\\users\\playdata\\appdata\\local\\programs\\python\\python311\\lib\\site-packages (from scikit-image->easyocr) (0.3)\n",
      "Requirement already satisfied: MarkupSafe>=2.0 in c:\\users\\playdata\\appdata\\local\\programs\\python\\python311\\lib\\site-packages (from jinja2->torch->easyocr) (2.1.3)\n",
      "Requirement already satisfied: charset-normalizer<4,>=2 in c:\\users\\playdata\\appdata\\local\\programs\\python\\python311\\lib\\site-packages (from requests->torchvision>=0.5->easyocr) (3.3.0)\n",
      "Requirement already satisfied: idna<4,>=2.5 in c:\\users\\playdata\\appdata\\local\\programs\\python\\python311\\lib\\site-packages (from requests->torchvision>=0.5->easyocr) (3.4)\n",
      "Requirement already satisfied: urllib3<3,>=1.21.1 in c:\\users\\playdata\\appdata\\local\\programs\\python\\python311\\lib\\site-packages (from requests->torchvision>=0.5->easyocr) (2.0.6)\n",
      "Requirement already satisfied: certifi>=2017.4.17 in c:\\users\\playdata\\appdata\\local\\programs\\python\\python311\\lib\\site-packages (from requests->torchvision>=0.5->easyocr) (2023.7.22)\n",
      "Requirement already satisfied: mpmath>=0.19 in c:\\users\\playdata\\appdata\\local\\programs\\python\\python311\\lib\\site-packages (from sympy->torch->easyocr) (1.3.0)\n",
      "Note: you may need to restart the kernel to use updated packages.\n"
     ]
    },
    {
     "name": "stderr",
     "output_type": "stream",
     "text": [
      "\n",
      "[notice] A new release of pip is available: 23.3.1 -> 23.3.2\n",
      "[notice] To update, run: python.exe -m pip install --upgrade pip\n"
     ]
    }
   ],
   "source": [
    "pip install easyocr"
   ]
  },
  {
   "cell_type": "code",
   "execution_count": null,
   "metadata": {},
   "outputs": [],
   "source": [
    "import easyocr\n",
    "import pandas as pd\n",
    "import re\n",
    "\n",
    "def extract_information(image_path):\n",
    "    reader = easyocr.Reader(['en'], gpu=False)  # 'en'은 영어 언어 모델입니다. 필요에 따라 언어를 변경하세요.\n",
    "\n",
    "    # 이미지에서 텍스트 추출\n",
    "    result = reader.readtext(image_path)\n",
    "\n",
    "    # 추출된 텍스트에서 필요한 정보 추출\n",
    "    date_pattern = re.compile(r'\\d{4}-\\d{2}-\\d{2}')  # 날짜 패턴\n",
    "    time_pattern = re.compile(r'\\d{2}:\\d{2}:\\d{2}')  # 시간 패턴\n",
    "    store_name_pattern = re.compile(r'Store: (.+?)\\n')  # 가게명 패턴\n",
    "    menu_pattern = re.compile(r'\\bMenu\\b:\\s*(.+?)\\n')  # 메뉴 패턴\n",
    "    total_amount_pattern = re.compile(r'\\bTotal\\b:\\s*(.+?)\\n')  # 총 금액 패턴\n",
    "\n",
    "    date, time, store_name, menu, total_amount = None, None, None, None, None\n",
    "\n",
    "    for text, _, _ in result:\n",
    "        date_match = date_pattern.search(text)\n",
    "        time_match = time_pattern.search(text)\n",
    "        store_name_match = store_name_pattern.search(text)\n",
    "        menu_match = menu_pattern.search(text)\n",
    "        total_amount_match = total_amount_pattern.search(text)\n",
    "\n",
    "        if date_match:\n",
    "            date = date_match.group()\n",
    "        elif time_match:\n",
    "            time = time_match.group()\n",
    "        elif store_name_match:\n",
    "            store_name = store_name_match.group(1)\n",
    "        elif menu_match:\n",
    "            menu = menu_match.group(1)\n",
    "        elif total_amount_match:\n",
    "            total_amount = total_amount_match.group(1)\n",
    "\n",
    "    # 추출된 정보를 데이터프레임으로 변환\n",
    "    data = {'Date': [date], 'Time': [time], 'Store Name': [store_name], 'Menu': [menu], 'Total Amount': [total_amount]}\n",
    "    df = pd.DataFrame(data)\n",
    "\n",
    "    return df\n",
    "\n",
    "# 이미지 파일 경로를 적절히 수정하세요.\n",
    "image_path = 'C:\\Users\\Playdata\\Desktop\\수업\\개인 공부\\img\\a000dc0edafa1.jpeg'\n",
    "result_df = extract_information(image_path)\n",
    "\n",
    "# 결과 출력\n",
    "print(result_df)\n"
   ]
  }
 ],
 "metadata": {
  "kernelspec": {
   "display_name": "Python 3",
   "language": "python",
   "name": "python3"
  },
  "language_info": {
   "codemirror_mode": {
    "name": "ipython",
    "version": 3
   },
   "file_extension": ".py",
   "mimetype": "text/x-python",
   "name": "python",
   "nbconvert_exporter": "python",
   "pygments_lexer": "ipython3",
   "version": "3.11.5"
  }
 },
 "nbformat": 4,
 "nbformat_minor": 2
}
