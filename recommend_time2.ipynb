{
 "cells": [
  {
   "cell_type": "code",
   "execution_count": 3,
   "metadata": {},
   "outputs": [],
   "source": [
    "from transformers import GPT2Tokenizer, GPT2LMHeadModel\n",
    "import torch\n",
    "\n",
    "# GPT-2 모델 및 토크나이저 로딩\n",
    "model_name = \"gpt2\"\n",
    "tokenizer = GPT2Tokenizer.from_pretrained(model_name)\n",
    "model = GPT2LMHeadModel.from_pretrained(model_name)\n",
    "\n",
    "# 모델의 토크나이저 최대 입력 길이 설정\n",
    "max_length = model.config.n_positions\n",
    "\n",
    "def predict_time_of_day(input_text):\n",
    "    # 입력 텍스트를 토큰화\n",
    "    input_ids = tokenizer.encode(input_text, return_tensors=\"pt\", max_length=max_length)\n",
    "\n",
    "    # 모델을 통해 예측\n",
    "    with torch.no_grad():\n",
    "        logits = model(input_ids).logits[:, -1, :]\n",
    "    \n",
    "    # 확률 분포에서 가장 높은 값을 가지는 인덱스 찾기\n",
    "    predicted_time_index = torch.argmax(logits, dim=-1).item()\n",
    "\n",
    "    # 인덱스를 아침, 점심, 저녁 중 하나로 변환\n",
    "    time_of_day = {0: \"아침\", 1: \"점심\", 2: \"저녁\"}.get(predicted_time_index, \"알 수 없음\")\n",
    "\n",
    "    return time_of_day"
   ]
  },
  {
   "cell_type": "code",
   "execution_count": 4,
   "metadata": {},
   "outputs": [
    {
     "name": "stderr",
     "output_type": "stream",
     "text": [
      "Truncation was not explicitly activated but `max_length` is provided a specific value, please use `truncation=True` to explicitly truncate examples to max length. Defaulting to 'longest_first' truncation strategy. If you encode pairs of sequences (GLUE-style) with the tokenizer you can select this strategy more precisely by providing a specific strategy to `truncation`.\n"
     ]
    },
    {
     "name": "stdout",
     "output_type": "stream",
     "text": [
      "입력 텍스트에 대한 예측된 시간대: 알 수 없음\n"
     ]
    }
   ],
   "source": [
    "# 예시 입력 텍스트\n",
    "input_text = input(\"검색어 입력하세요:\")\n",
    "\n",
    "# 모델을 통해 예측된 시간대 출력\n",
    "predicted_time = predict_time_of_day(input_text)\n",
    "print(f\"입력 텍스트에 대한 예측된 시간대: {predicted_time}\")"
   ]
  }
 ],
 "metadata": {
  "kernelspec": {
   "display_name": "Python 3",
   "language": "python",
   "name": "python3"
  },
  "language_info": {
   "codemirror_mode": {
    "name": "ipython",
    "version": 3
   },
   "file_extension": ".py",
   "mimetype": "text/x-python",
   "name": "python",
   "nbconvert_exporter": "python",
   "pygments_lexer": "ipython3",
   "version": "3.11.5"
  }
 },
 "nbformat": 4,
 "nbformat_minor": 2
}
