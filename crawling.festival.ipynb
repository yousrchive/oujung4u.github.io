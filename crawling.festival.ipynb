{
 "cells": [
  {
   "cell_type": "code",
   "execution_count": 1,
   "metadata": {},
   "outputs": [
    {
     "name": "stdout",
     "output_type": "stream",
     "text": [
      "Empty DataFrame\n",
      "Columns: []\n",
      "Index: []\n"
     ]
    }
   ],
   "source": [
    "import requests\n",
    "from bs4 import BeautifulSoup\n",
    "import pandas as pd\n",
    "\n",
    "base_url = 'https://www.mcst.go.kr/kor/s_culture/festival/festivalList.jsp'\n",
    "\n",
    "def get_festival_info(url):\n",
    "    festival_info = {}\n",
    "    response = requests.get(url)\n",
    "    soup = BeautifulSoup(response.text, 'html.parser')\n",
    "\n",
    "    # 여기에서 원하는 정보를 가져오는 코드 작성\n",
    "    # 예를 들어, 이미지, 개최지역, 개최기간 등을 가져오기 위한 코드를 추가해야 합니다.\n",
    "\n",
    "    return festival_info\n",
    "\n",
    "def crawl_festivals(start_page, end_page):\n",
    "    festival_list = []\n",
    "\n",
    "    for page_num in range(start_page, end_page + 1):\n",
    "        page_url = f'{base_url}?pageIndex={page_num}'\n",
    "        response = requests.get(page_url)\n",
    "        soup = BeautifulSoup(response.text, 'html.parser')\n",
    "\n",
    "        # 각 축제의 상세 페이지 URL을 가져오기\n",
    "        festival_links = [a['href'] for a in soup.select('.festivallist a')]\n",
    "\n",
    "        for link in festival_links:\n",
    "            festival_url = f'https://www.mcst.go.kr{link}'\n",
    "            festival_info = get_festival_info(festival_url)\n",
    "            festival_list.append(festival_info)\n",
    "\n",
    "    return festival_list\n",
    "\n",
    "# 예시: 1페이지부터 5페이지까지의 축제 정보 가져오기\n",
    "start_page = 1\n",
    "end_page = 5\n",
    "festivals = crawl_festivals(start_page, end_page)\n",
    "\n",
    "# 결과를 데이터프레임으로 변환\n",
    "df = pd.DataFrame(festivals)\n",
    "\n",
    "# 결과 출력\n",
    "print(df)\n"
   ]
  }
 ],
 "metadata": {
  "kernelspec": {
   "display_name": "Python 3",
   "language": "python",
   "name": "python3"
  },
  "language_info": {
   "codemirror_mode": {
    "name": "ipython",
    "version": 3
   },
   "file_extension": ".py",
   "mimetype": "text/x-python",
   "name": "python",
   "nbconvert_exporter": "python",
   "pygments_lexer": "ipython3",
   "version": "3.11.5"
  }
 },
 "nbformat": 4,
 "nbformat_minor": 2
}
