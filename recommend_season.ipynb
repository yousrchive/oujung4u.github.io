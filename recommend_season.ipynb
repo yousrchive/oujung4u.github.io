{
 "cells": [
  {
   "cell_type": "code",
   "execution_count": null,
   "metadata": {},
   "outputs": [],
   "source": [
    "#리뷰에서 계절감, 시간대 추천하기\n",
    "#배열할 때 row에 추천 계절, 추천 시간대 (아침, 오후, 저녁)\n",
    "#전이학습모델 -> 리뷰데이터 함축, 문서수준에서 아침, 오후, 저녁 단어와 유사도가 깊은 단어들 고르기 -> 3개 중 그 정도가 가장 큰 것 아이콘 표현"
   ]
  },
  {
   "cell_type": "code",
   "execution_count": null,
   "metadata": {},
   "outputs": [],
   "source": [
    "#계절 추천\n",
    "#'봄'과 관련 깊은 단어들 빈도 ...  4개 비교해서 가장 유사도 높은\n"
   ]
  }
 ],
 "metadata": {
  "language_info": {
   "name": "python"
  }
 },
 "nbformat": 4,
 "nbformat_minor": 2
}
